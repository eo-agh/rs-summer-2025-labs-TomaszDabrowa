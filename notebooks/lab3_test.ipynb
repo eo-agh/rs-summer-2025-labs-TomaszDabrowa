{
 "cells": [
  {
   "cell_type": "code",
   "execution_count": null,
   "id": "3c8acf5e",
   "metadata": {},
   "outputs": [],
   "source": [
    "import ee\n",
    "import geemap"
   ]
  },
  {
   "cell_type": "code",
   "execution_count": null,
   "id": "61a9a44e",
   "metadata": {},
   "outputs": [],
   "source": [
    "#ee.Authenticate()\n",
    "ee.Initialize(project='ee-dabrowaremote')"
   ]
  },
  {
   "cell_type": "code",
   "execution_count": null,
   "id": "0ee0514a",
   "metadata": {},
   "outputs": [],
   "source": [
    "aoi = ee.Geometry.Polygon(\n",
    "    [[[18.8200, 50.4000], [18.9600, 50.4000], [18.9600, 50.3000], [18.8200, 50.3000]]]\n",
    ")\n",
    "start_date = '2023-06-01'\n",
    "end_date = '2023-09-01'"
   ]
  },
  {
   "cell_type": "code",
   "execution_count": null,
   "id": "14268e7f",
   "metadata": {},
   "outputs": [],
   "source": [
    "from geoapps.lab03.cloud_mosaic import create_cloud_free_mosaic\n"
   ]
  },
  {
   "cell_type": "code",
   "execution_count": null,
   "id": "9ffb2c6a",
   "metadata": {},
   "outputs": [],
   "source": [
    "mosaic = create_cloud_free_mosaic(aoi, '2023-06-01', '2023-07-01')\n",
    "print(mosaic.getInfo())"
   ]
  },
  {
   "cell_type": "code",
   "execution_count": null,
   "id": "9909a230",
   "metadata": {},
   "outputs": [],
   "source": [
    "Map = geemap.Map(center=[50.35, 18.89], zoom=10)\n",
    "Map.addLayer(mosaic, {'bands': ['B4', 'B3', 'B2'], 'min': 0, 'max': 3000}, 'Mosaic')\n",
    "Map"
   ]
  },
  {
   "cell_type": "markdown",
   "id": "8a32aecb",
   "metadata": {},
   "source": []
  }
 ],
 "metadata": {
  "kernelspec": {
   "display_name": "Teledetekcja",
   "language": "python",
   "name": "python3"
  },
  "language_info": {
   "codemirror_mode": {
    "name": "ipython",
    "version": 3
   },
   "file_extension": ".py",
   "mimetype": "text/x-python",
   "name": "python",
   "nbconvert_exporter": "python",
   "pygments_lexer": "ipython3",
   "version": "3.13.2"
  }
 },
 "nbformat": 4,
 "nbformat_minor": 5
}
