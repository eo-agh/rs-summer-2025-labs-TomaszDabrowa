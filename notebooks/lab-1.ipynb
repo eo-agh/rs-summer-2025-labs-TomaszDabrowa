{
 "cells": [
  {
   "cell_type": "markdown",
   "id": "6a35dba3",
   "metadata": {},
   "source": [
    "# Laboratory Exercise 1: Introduction to Google Earth Engine (GEE)\n",
    "In this lab, you will learn how to initialize Google Earth Engine (GEE), select satellite images, visualize data, and analyze basic metadata."
   ]
  },
  {
   "cell_type": "markdown",
   "id": "1c5f6c68",
   "metadata": {},
   "source": [
    "## Task 1: Initialize Google Earth Engine\n",
    "Authenticate and initialize the Google Earth Engine (GEE) API."
   ]
  },
  {
   "cell_type": "code",
   "execution_count": 2,
   "id": "2dbfdbda",
   "metadata": {},
   "outputs": [
    {
     "data": {
      "text/html": [
       "\n",
       "            <style>\n",
       "                .geemap-dark {\n",
       "                    --jp-widgets-color: white;\n",
       "                    --jp-widgets-label-color: white;\n",
       "                    --jp-ui-font-color1: white;\n",
       "                    --jp-layout-color2: #454545;\n",
       "                    background-color: #383838;\n",
       "                }\n",
       "\n",
       "                .geemap-dark .jupyter-button {\n",
       "                    --jp-layout-color3: #383838;\n",
       "                }\n",
       "\n",
       "                .geemap-colab {\n",
       "                    background-color: var(--colab-primary-surface-color, white);\n",
       "                }\n",
       "\n",
       "                .geemap-colab .jupyter-button {\n",
       "                    --jp-layout-color3: var(--colab-primary-surface-color, white);\n",
       "                }\n",
       "            </style>\n",
       "            "
      ],
      "text/plain": [
       "<IPython.core.display.HTML object>"
      ]
     },
     "metadata": {},
     "output_type": "display_data"
    }
   ],
   "source": [
    "import ee\n",
    "import geemap\n",
    "# Authenticate and initialize GEE\n",
    "# TODO: Use the Earth Engine library to authenticate and initialize your session\n",
    "#ee.Authenticate()\n",
    "ee.Initialize(project='ee-dabrowaremote')\n"
   ]
  },
  {
   "cell_type": "markdown",
   "id": "7b7d36d4",
   "metadata": {},
   "source": [
    "## Task 2: Define Area of Interest (AOI)\n",
    "Define your area of interest (AOI). You can use either a point or a bounding box.\n",
    "Example coordinates are provided below (Krakow, Poland). Adjust them for your location."
   ]
  },
  {
   "cell_type": "code",
   "execution_count": 6,
   "id": "75f06d59",
   "metadata": {},
   "outputs": [
    {
     "data": {
      "text/html": [
       "\n",
       "            <style>\n",
       "                .geemap-dark {\n",
       "                    --jp-widgets-color: white;\n",
       "                    --jp-widgets-label-color: white;\n",
       "                    --jp-ui-font-color1: white;\n",
       "                    --jp-layout-color2: #454545;\n",
       "                    background-color: #383838;\n",
       "                }\n",
       "\n",
       "                .geemap-dark .jupyter-button {\n",
       "                    --jp-layout-color3: #383838;\n",
       "                }\n",
       "\n",
       "                .geemap-colab {\n",
       "                    background-color: var(--colab-primary-surface-color, white);\n",
       "                }\n",
       "\n",
       "                .geemap-colab .jupyter-button {\n",
       "                    --jp-layout-color3: var(--colab-primary-surface-color, white);\n",
       "                }\n",
       "            </style>\n",
       "            "
      ],
      "text/plain": [
       "<IPython.core.display.HTML object>"
      ]
     },
     "metadata": {},
     "output_type": "display_data"
    }
   ],
   "source": [
    "# Define AOI\n",
    "# TODO: Replace with your coordinates\n",
    "#aoi = ee.Geometry.Point([19.9383, 50.0614])  # Example: Krakow\n",
    "# or\n",
    "north = 50.4000\n",
    "south = 50.3000\n",
    "west = 18.8200\n",
    "east = 18.9600\n",
    "\n",
    "aoi = ee.Geometry.Rectangle([west, south, east, north])"
   ]
  },
  {
   "cell_type": "markdown",
   "id": "fc029d60",
   "metadata": {},
   "source": [
    "## Task 3: Retrieve Sentinel-2 Data\n",
    "Retrieve Sentinel-2 imagery for your defined AOI within a specific date range. Sort the images based on cloud cover percentage."
   ]
  },
  {
   "cell_type": "code",
   "execution_count": 9,
   "id": "5e08ded8",
   "metadata": {},
   "outputs": [
    {
     "data": {
      "text/html": [
       "\n",
       "            <style>\n",
       "                .geemap-dark {\n",
       "                    --jp-widgets-color: white;\n",
       "                    --jp-widgets-label-color: white;\n",
       "                    --jp-ui-font-color1: white;\n",
       "                    --jp-layout-color2: #454545;\n",
       "                    background-color: #383838;\n",
       "                }\n",
       "\n",
       "                .geemap-dark .jupyter-button {\n",
       "                    --jp-layout-color3: #383838;\n",
       "                }\n",
       "\n",
       "                .geemap-colab {\n",
       "                    background-color: var(--colab-primary-surface-color, white);\n",
       "                }\n",
       "\n",
       "                .geemap-colab .jupyter-button {\n",
       "                    --jp-layout-color3: var(--colab-primary-surface-color, white);\n",
       "                }\n",
       "            </style>\n",
       "            "
      ],
      "text/plain": [
       "<IPython.core.display.HTML object>"
      ]
     },
     "metadata": {},
     "output_type": "display_data"
    }
   ],
   "source": [
    "# Retrieve Sentinel-2 Data\n",
    "# TODO: Adjust the date range and retrieve the least cloudy Sentinel-2 image\n",
    "sentinel2 = ee.ImageCollection('COPERNICUS/S2_HARMONIZED').filterBounds(aoi).filterDate('2023-06-01', '2023-07-20').sort('CLOUDY-PIXEL-PERCENTAGE')\n",
    "image = sentinel2.first()\n",
    "metadata = image.getInfo()\n"
   ]
  },
  {
   "cell_type": "code",
   "execution_count": 10,
   "metadata": {},
   "outputs": [
    {
     "data": {
      "text/html": [
       "\n",
       "            <style>\n",
       "                .geemap-dark {\n",
       "                    --jp-widgets-color: white;\n",
       "                    --jp-widgets-label-color: white;\n",
       "                    --jp-ui-font-color1: white;\n",
       "                    --jp-layout-color2: #454545;\n",
       "                    background-color: #383838;\n",
       "                }\n",
       "\n",
       "                .geemap-dark .jupyter-button {\n",
       "                    --jp-layout-color3: #383838;\n",
       "                }\n",
       "\n",
       "                .geemap-colab {\n",
       "                    background-color: var(--colab-primary-surface-color, white);\n",
       "                }\n",
       "\n",
       "                .geemap-colab .jupyter-button {\n",
       "                    --jp-layout-color3: var(--colab-primary-surface-color, white);\n",
       "                }\n",
       "            </style>\n",
       "            "
      ],
      "text/plain": [
       "<IPython.core.display.HTML object>"
      ]
     },
     "metadata": {},
     "output_type": "display_data"
    },
    {
     "data": {
      "text/plain": [
       "{'type': 'Image',\n",
       " 'bands': [{'id': 'B1',\n",
       "   'data_type': {'type': 'PixelType',\n",
       "    'precision': 'int',\n",
       "    'min': 0,\n",
       "    'max': 65535},\n",
       "   'dimensions': [1830, 1830],\n",
       "   'crs': 'EPSG:32633',\n",
       "   'crs_transform': [60, 0, 699960, 0, -60, 5600040]},\n",
       "  {'id': 'B2',\n",
       "   'data_type': {'type': 'PixelType',\n",
       "    'precision': 'int',\n",
       "    'min': 0,\n",
       "    'max': 65535},\n",
       "   'dimensions': [10980, 10980],\n",
       "   'crs': 'EPSG:32633',\n",
       "   'crs_transform': [10, 0, 699960, 0, -10, 5600040]},\n",
       "  {'id': 'B3',\n",
       "   'data_type': {'type': 'PixelType',\n",
       "    'precision': 'int',\n",
       "    'min': 0,\n",
       "    'max': 65535},\n",
       "   'dimensions': [10980, 10980],\n",
       "   'crs': 'EPSG:32633',\n",
       "   'crs_transform': [10, 0, 699960, 0, -10, 5600040]},\n",
       "  {'id': 'B4',\n",
       "   'data_type': {'type': 'PixelType',\n",
       "    'precision': 'int',\n",
       "    'min': 0,\n",
       "    'max': 65535},\n",
       "   'dimensions': [10980, 10980],\n",
       "   'crs': 'EPSG:32633',\n",
       "   'crs_transform': [10, 0, 699960, 0, -10, 5600040]},\n",
       "  {'id': 'B5',\n",
       "   'data_type': {'type': 'PixelType',\n",
       "    'precision': 'int',\n",
       "    'min': 0,\n",
       "    'max': 65535},\n",
       "   'dimensions': [5490, 5490],\n",
       "   'crs': 'EPSG:32633',\n",
       "   'crs_transform': [20, 0, 699960, 0, -20, 5600040]},\n",
       "  {'id': 'B6',\n",
       "   'data_type': {'type': 'PixelType',\n",
       "    'precision': 'int',\n",
       "    'min': 0,\n",
       "    'max': 65535},\n",
       "   'dimensions': [5490, 5490],\n",
       "   'crs': 'EPSG:32633',\n",
       "   'crs_transform': [20, 0, 699960, 0, -20, 5600040]},\n",
       "  {'id': 'B7',\n",
       "   'data_type': {'type': 'PixelType',\n",
       "    'precision': 'int',\n",
       "    'min': 0,\n",
       "    'max': 65535},\n",
       "   'dimensions': [5490, 5490],\n",
       "   'crs': 'EPSG:32633',\n",
       "   'crs_transform': [20, 0, 699960, 0, -20, 5600040]},\n",
       "  {'id': 'B8',\n",
       "   'data_type': {'type': 'PixelType',\n",
       "    'precision': 'int',\n",
       "    'min': 0,\n",
       "    'max': 65535},\n",
       "   'dimensions': [10980, 10980],\n",
       "   'crs': 'EPSG:32633',\n",
       "   'crs_transform': [10, 0, 699960, 0, -10, 5600040]},\n",
       "  {'id': 'B8A',\n",
       "   'data_type': {'type': 'PixelType',\n",
       "    'precision': 'int',\n",
       "    'min': 0,\n",
       "    'max': 65535},\n",
       "   'dimensions': [5490, 5490],\n",
       "   'crs': 'EPSG:32633',\n",
       "   'crs_transform': [20, 0, 699960, 0, -20, 5600040]},\n",
       "  {'id': 'B9',\n",
       "   'data_type': {'type': 'PixelType',\n",
       "    'precision': 'int',\n",
       "    'min': 0,\n",
       "    'max': 65535},\n",
       "   'dimensions': [1830, 1830],\n",
       "   'crs': 'EPSG:32633',\n",
       "   'crs_transform': [60, 0, 699960, 0, -60, 5600040]},\n",
       "  {'id': 'B10',\n",
       "   'data_type': {'type': 'PixelType',\n",
       "    'precision': 'int',\n",
       "    'min': 0,\n",
       "    'max': 65535},\n",
       "   'dimensions': [1830, 1830],\n",
       "   'crs': 'EPSG:32633',\n",
       "   'crs_transform': [60, 0, 699960, 0, -60, 5600040]},\n",
       "  {'id': 'B11',\n",
       "   'data_type': {'type': 'PixelType',\n",
       "    'precision': 'int',\n",
       "    'min': 0,\n",
       "    'max': 65535},\n",
       "   'dimensions': [5490, 5490],\n",
       "   'crs': 'EPSG:32633',\n",
       "   'crs_transform': [20, 0, 699960, 0, -20, 5600040]},\n",
       "  {'id': 'B12',\n",
       "   'data_type': {'type': 'PixelType',\n",
       "    'precision': 'int',\n",
       "    'min': 0,\n",
       "    'max': 65535},\n",
       "   'dimensions': [5490, 5490],\n",
       "   'crs': 'EPSG:32633',\n",
       "   'crs_transform': [20, 0, 699960, 0, -20, 5600040]},\n",
       "  {'id': 'QA10',\n",
       "   'data_type': {'type': 'PixelType',\n",
       "    'precision': 'int',\n",
       "    'min': 0,\n",
       "    'max': 65535},\n",
       "   'dimensions': [10980, 10980],\n",
       "   'crs': 'EPSG:32633',\n",
       "   'crs_transform': [10, 0, 699960, 0, -10, 5600040]},\n",
       "  {'id': 'QA20',\n",
       "   'data_type': {'type': 'PixelType',\n",
       "    'precision': 'int',\n",
       "    'min': 0,\n",
       "    'max': 4294967295},\n",
       "   'dimensions': [5490, 5490],\n",
       "   'crs': 'EPSG:32633',\n",
       "   'crs_transform': [20, 0, 699960, 0, -20, 5600040]},\n",
       "  {'id': 'QA60',\n",
       "   'data_type': {'type': 'PixelType',\n",
       "    'precision': 'int',\n",
       "    'min': 0,\n",
       "    'max': 65535},\n",
       "   'dimensions': [1830, 1830],\n",
       "   'crs': 'EPSG:32633',\n",
       "   'crs_transform': [60, 0, 699960, 0, -60, 5600040]},\n",
       "  {'id': 'MSK_CLASSI_OPAQUE',\n",
       "   'data_type': {'type': 'PixelType',\n",
       "    'precision': 'int',\n",
       "    'min': 0,\n",
       "    'max': 255},\n",
       "   'crs': 'EPSG:4326',\n",
       "   'crs_transform': [1, 0, 0, 0, 1, 0]},\n",
       "  {'id': 'MSK_CLASSI_CIRRUS',\n",
       "   'data_type': {'type': 'PixelType',\n",
       "    'precision': 'int',\n",
       "    'min': 0,\n",
       "    'max': 255},\n",
       "   'crs': 'EPSG:4326',\n",
       "   'crs_transform': [1, 0, 0, 0, 1, 0]},\n",
       "  {'id': 'MSK_CLASSI_SNOW_ICE',\n",
       "   'data_type': {'type': 'PixelType',\n",
       "    'precision': 'int',\n",
       "    'min': 0,\n",
       "    'max': 255},\n",
       "   'crs': 'EPSG:4326',\n",
       "   'crs_transform': [1, 0, 0, 0, 1, 0]}],\n",
       " 'version': 1742389444698657,\n",
       " 'id': 'COPERNICUS/S2_HARMONIZED/20230601T094549_20230601T095606_T33UYR',\n",
       " 'properties': {'DATATAKE_IDENTIFIER': 'GS2B_20230601T094549_032566_N05.09',\n",
       "  'SPACECRAFT_NAME': 'Sentinel-2B',\n",
       "  'RADIO_ADD_OFFSET_B8A': -1000,\n",
       "  'MEAN_INCIDENCE_AZIMUTH_ANGLE_B8A': 174.03294059942,\n",
       "  'RADIO_ADD_OFFSET_B10': -1000,\n",
       "  'MEAN_SOLAR_AZIMUTH_ANGLE': 157.542607305797,\n",
       "  'system:footprint': {'type': 'LinearRing',\n",
       "   'coordinates': [[17.820633281647112, 50.51813927274314],\n",
       "    [17.820627899995863, 50.51812463307668],\n",
       "    [17.791626132982515, 50.02504929084683],\n",
       "    [17.763416789604097, 49.53192740378628],\n",
       "    [17.763470731137012, 49.53188464030347],\n",
       "    [17.763515953578466, 49.53183780470737],\n",
       "    [17.763538564078, 49.53183446864603],\n",
       "    [19.27710274750333, 49.485720047061626],\n",
       "    [19.277169744924077, 49.48575423322829],\n",
       "    [19.277242713920266, 49.485782634759964],\n",
       "    [19.27724825292718, 49.485797226361626],\n",
       "    [19.29888259191159, 49.731971508295565],\n",
       "    [19.320815817151818, 49.978120693396015],\n",
       "    [19.343054114870686, 50.224252196778316],\n",
       "    [19.365602951082643, 50.470365955434495],\n",
       "    [19.365549370779277, 50.470409450238996],\n",
       "    [19.365504776799963, 50.47045688427919],\n",
       "    [19.365481899555782, 50.470460585822785],\n",
       "    [17.82077435806453, 50.51820359022335],\n",
       "    [17.820706986710345, 50.51816864934566],\n",
       "    [17.820633281647112, 50.51813927274314]]},\n",
       "  'SOLAR_IRRADIANCE_B12': 87.75,\n",
       "  'SOLAR_IRRADIANCE_B10': 365.41,\n",
       "  'SENSOR_QUALITY': 'PASSED',\n",
       "  'SOLAR_IRRADIANCE_B11': 247.08,\n",
       "  'GENERATION_TIME': 1685626356000,\n",
       "  'RADIO_ADD_OFFSET_B12': -1000,\n",
       "  'RADIO_ADD_OFFSET_B11': -1000,\n",
       "  'SOLAR_IRRADIANCE_B8A': 953.93,\n",
       "  'FORMAT_CORRECTNESS': 'PASSED',\n",
       "  'CLOUD_COVERAGE_ASSESSMENT': 14.0319209292604,\n",
       "  'system:time_end': 1685613410359,\n",
       "  'SNOW_PIXEL_PERCENTAGE': 0,\n",
       "  'system:time_start': 1685613410359,\n",
       "  'RADIO_ADD_OFFSET_B1': -1000,\n",
       "  'RADIO_ADD_OFFSET_B2': -1000,\n",
       "  'DATASTRIP_ID': 'S2B_OPER_MSI_L1C_DS_2BPS_20230601T133236_S20230601T095606_N05.09',\n",
       "  'RADIO_ADD_OFFSET_B3': -1000,\n",
       "  'RADIO_ADD_OFFSET_B4': -1000,\n",
       "  'RADIO_ADD_OFFSET_B5': -1000,\n",
       "  'PROCESSING_BASELINE': '05.09',\n",
       "  'SENSING_ORBIT_NUMBER': 79,\n",
       "  'RADIO_ADD_OFFSET_B6': -1000,\n",
       "  'RADIO_ADD_OFFSET_B7': -1000,\n",
       "  'SENSING_ORBIT_DIRECTION': 'DESCENDING',\n",
       "  'GENERAL_QUALITY': 'PASSED',\n",
       "  'GRANULE_ID': 'L1C_T33UYR_A032566_20230601T095606',\n",
       "  'REFLECTANCE_CONVERSION_CORRECTION': 0.973872714002463,\n",
       "  'MEAN_INCIDENCE_AZIMUTH_ANGLE_B8': 177.387393959165,\n",
       "  'DATATAKE_TYPE': 'INS-NOBS',\n",
       "  'MEAN_INCIDENCE_AZIMUTH_ANGLE_B9': 173.871969642993,\n",
       "  'MEAN_INCIDENCE_AZIMUTH_ANGLE_B6': 174.456994370769,\n",
       "  'MEAN_INCIDENCE_AZIMUTH_ANGLE_B7': 174.211542862208,\n",
       "  'MEAN_INCIDENCE_AZIMUTH_ANGLE_B4': 175.14801628598,\n",
       "  'MEAN_INCIDENCE_ZENITH_ANGLE_B1': 3.07240010607468,\n",
       "  'RADIO_ADD_OFFSET_B8': -1000,\n",
       "  'MEAN_INCIDENCE_AZIMUTH_ANGLE_B5': 174.79230538277,\n",
       "  'RADIOMETRIC_QUALITY': 'PASSED',\n",
       "  'RADIO_ADD_OFFSET_B9': -1000,\n",
       "  'MEAN_INCIDENCE_AZIMUTH_ANGLE_B2': 178.696754254661,\n",
       "  'MEAN_INCIDENCE_AZIMUTH_ANGLE_B3': 176.378784820449,\n",
       "  'MEAN_INCIDENCE_ZENITH_ANGLE_B5': 2.72998996170938,\n",
       "  'MEAN_INCIDENCE_AZIMUTH_ANGLE_B1': 174.23781280904,\n",
       "  'MEAN_INCIDENCE_ZENITH_ANGLE_B4': 2.65899273023861,\n",
       "  'MEAN_INCIDENCE_ZENITH_ANGLE_B3': 2.53773304932716,\n",
       "  'MEAN_INCIDENCE_ZENITH_ANGLE_B2': 2.42784851883777,\n",
       "  'MEAN_INCIDENCE_ZENITH_ANGLE_B9': 3.16945206309044,\n",
       "  'MEAN_INCIDENCE_ZENITH_ANGLE_B8': 2.47782135593323,\n",
       "  'MEAN_INCIDENCE_ZENITH_ANGLE_B7': 2.89113317181273,\n",
       "  'MEAN_INCIDENCE_ZENITH_ANGLE_B6': 2.80837247858663,\n",
       "  'MEAN_SOLAR_ZENITH_ANGLE': 29.4315310072438,\n",
       "  'MEAN_INCIDENCE_ZENITH_ANGLE_B8A': 2.97768524414379,\n",
       "  'MGRS_TILE': '33UYR',\n",
       "  'CLOUDY_PIXEL_PERCENTAGE': 14.0319209292604,\n",
       "  'PRODUCT_ID': 'S2B_MSIL1C_20230601T094549_N0509_R079_T33UYR_20230601T133236',\n",
       "  'MEAN_INCIDENCE_ZENITH_ANGLE_B10': 2.62134497554915,\n",
       "  'SOLAR_IRRADIANCE_B9': 817.58,\n",
       "  'DEGRADED_MSI_DATA_PERCENTAGE': 0.0085,\n",
       "  'MEAN_INCIDENCE_ZENITH_ANGLE_B11': 2.79795968725832,\n",
       "  'MEAN_INCIDENCE_ZENITH_ANGLE_B12': 2.99968038578069,\n",
       "  'SOLAR_IRRADIANCE_B6': 1291.13,\n",
       "  'MEAN_INCIDENCE_AZIMUTH_ANGLE_B10': 175.701589146136,\n",
       "  'SOLAR_IRRADIANCE_B5': 1425.78,\n",
       "  'MEAN_INCIDENCE_AZIMUTH_ANGLE_B11': 174.261610859477,\n",
       "  'SOLAR_IRRADIANCE_B8': 1041.28,\n",
       "  'MEAN_INCIDENCE_AZIMUTH_ANGLE_B12': 173.740830173562,\n",
       "  'SOLAR_IRRADIANCE_B7': 1175.57,\n",
       "  'SOLAR_IRRADIANCE_B2': 1959.75,\n",
       "  'SOLAR_IRRADIANCE_B1': 1874.3,\n",
       "  'SOLAR_IRRADIANCE_B4': 1512.79,\n",
       "  'GEOMETRIC_QUALITY': 'PASSED',\n",
       "  'SOLAR_IRRADIANCE_B3': 1824.93,\n",
       "  'system:asset_size': 1316364556,\n",
       "  'system:index': '20230601T094549_20230601T095606_T33UYR'}}"
      ]
     },
     "execution_count": 10,
     "metadata": {},
     "output_type": "execute_result"
    }
   ],
   "source": [
    "metadata"
   ]
  },
  {
   "cell_type": "markdown",
   "id": "8024b605",
   "metadata": {},
   "source": [
    "## Task 4: Extract Image Metadata\n",
    "Extract and print metadata from the selected image, such as ID, cloud cover percentage, mean solar azimuth and zenith angles, and processing level."
   ]
  },
  {
   "cell_type": "code",
   "execution_count": 17,
   "id": "14d34b82",
   "metadata": {},
   "outputs": [
    {
     "data": {
      "text/html": [
       "\n",
       "            <style>\n",
       "                .geemap-dark {\n",
       "                    --jp-widgets-color: white;\n",
       "                    --jp-widgets-label-color: white;\n",
       "                    --jp-ui-font-color1: white;\n",
       "                    --jp-layout-color2: #454545;\n",
       "                    background-color: #383838;\n",
       "                }\n",
       "\n",
       "                .geemap-dark .jupyter-button {\n",
       "                    --jp-layout-color3: #383838;\n",
       "                }\n",
       "\n",
       "                .geemap-colab {\n",
       "                    background-color: var(--colab-primary-surface-color, white);\n",
       "                }\n",
       "\n",
       "                .geemap-colab .jupyter-button {\n",
       "                    --jp-layout-color3: var(--colab-primary-surface-color, white);\n",
       "                }\n",
       "            </style>\n",
       "            "
      ],
      "text/plain": [
       "<IPython.core.display.HTML object>"
      ]
     },
     "metadata": {},
     "output_type": "display_data"
    },
    {
     "name": "stdout",
     "output_type": "stream",
     "text": [
      "COPERNICUS/S2_HARMONIZED/20230601T094549_20230601T095606_T33UYR\n",
      "14.0319209292604\n",
      "157.542607305797\n",
      "29.4315310072438\n",
      "MSIL1C\n"
     ]
    }
   ],
   "source": [
    "# Extract metadata\n",
    "# TODO: Retrieve and display image metadata\n",
    "print(metadata['id'])\n",
    "print(metadata['properties']['CLOUDY_PIXEL_PERCENTAGE'])\n",
    "print(metadata['properties']['MEAN_SOLAR_AZIMUTH_ANGLE'])\n",
    "print(metadata['properties']['MEAN_SOLAR_ZENITH_ANGLE'])\n",
    "print(metadata['properties']['PRODUCT_ID'].split('_')[1])"
   ]
  },
  {
   "cell_type": "markdown",
   "id": "d5113faa",
   "metadata": {},
   "source": [
    "## Task 5: Visualize Image\n",
    "Create a map and visualize the Sentinel-2 image using different visualization parameters (e.g., true color, false color)."
   ]
  },
  {
   "cell_type": "code",
   "execution_count": 23,
   "id": "ffe9a4f2",
   "metadata": {},
   "outputs": [
    {
     "data": {
      "text/html": [
       "\n",
       "            <style>\n",
       "                .geemap-dark {\n",
       "                    --jp-widgets-color: white;\n",
       "                    --jp-widgets-label-color: white;\n",
       "                    --jp-ui-font-color1: white;\n",
       "                    --jp-layout-color2: #454545;\n",
       "                    background-color: #383838;\n",
       "                }\n",
       "\n",
       "                .geemap-dark .jupyter-button {\n",
       "                    --jp-layout-color3: #383838;\n",
       "                }\n",
       "\n",
       "                .geemap-colab {\n",
       "                    background-color: var(--colab-primary-surface-color, white);\n",
       "                }\n",
       "\n",
       "                .geemap-colab .jupyter-button {\n",
       "                    --jp-layout-color3: var(--colab-primary-surface-color, white);\n",
       "                }\n",
       "            </style>\n",
       "            "
      ],
      "text/plain": [
       "<IPython.core.display.HTML object>"
      ]
     },
     "metadata": {},
     "output_type": "display_data"
    },
    {
     "data": {
      "application/vnd.jupyter.widget-view+json": {
       "model_id": "c9e10fc200d6448fab39642681d611db",
       "version_major": 2,
       "version_minor": 0
      },
      "text/plain": [
       "Map(center=[50.35, 18.89], controls=(WidgetControl(options=['position', 'transparent_bg'], widget=SearchDataGU…"
      ]
     },
     "execution_count": 23,
     "metadata": {},
     "output_type": "execute_result"
    }
   ],
   "source": [
    "# Visualization\n",
    "# TODO: Create visualization layers using true color and false color compositions\n",
    "# Example parameters provided below:\n",
    "true_color_params = {'bands': ['B4', 'B3', 'B2'], 'min': 0, 'max': 3000}\n",
    "false_color_params = {'bands': ['B8', 'B4', 'B3'], 'min': 0, 'max': 5000}\n",
    "\n",
    "# TODO: Add these layers to an interactive map\n",
    "\n",
    "centroid = aoi.centroid()\n",
    "m = geemap.Map(center=[50.35, 18.89], zoom=10)\n",
    "m.addLayer(image, true_color_params, \"True Color\")\n",
    "m.addLayer(image, false_color_params, \"False Color\")\n",
    "m\n"
   ]
  },
  {
   "cell_type": "markdown",
   "id": "cfc58f9d",
   "metadata": {},
   "source": [
    "## Submission\n",
    "Save your completed notebook and submit it to your course repository."
   ]
  }
 ],
 "metadata": {
  "kernelspec": {
   "display_name": "RemoteSensing",
   "language": "python",
   "name": "python3"
  },
  "language_info": {
   "codemirror_mode": {
    "name": "ipython",
    "version": 3
   },
   "file_extension": ".py",
   "mimetype": "text/x-python",
   "name": "python",
   "nbconvert_exporter": "python",
   "pygments_lexer": "ipython3",
   "version": "3.12.7"
  }
 },
 "nbformat": 4,
 "nbformat_minor": 2
}
