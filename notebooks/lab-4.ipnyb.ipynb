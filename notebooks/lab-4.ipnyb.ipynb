{
 "cells": [
  {
   "cell_type": "markdown",
   "id": "d3ac2b14",
   "metadata": {},
   "source": [
    "# Lab 4: Urban Heat Island Detection using Thermal Satellite Imagery"
   ]
  },
  {
   "cell_type": "markdown",
   "id": "94a259ca",
   "metadata": {},
   "source": [
    "## Goal\n",
    "In this exercise, you will:\n",
    "1. Select and compare two thermal satellite images from Kraków (or another city that has recently undergone intensive, thoughtless concrete development) – one from **2013** and one from **2024**.\n",
    "2. Each image must be acquired on a **hot summer day** (T > 27°C based on IMGW meteorological data).\n",
    "3. Images must have **low cloud cover** (< 20%).\n",
    "4. Visualize thermal data and analyze surface temperature differences (Urban Heat Island effect)."
   ]
  },
  {
   "cell_type": "code",
   "execution_count": 2,
   "id": "0d942a45",
   "metadata": {},
   "outputs": [
    {
     "data": {
      "text/html": [
       "\n",
       "            <style>\n",
       "                .geemap-dark {\n",
       "                    --jp-widgets-color: white;\n",
       "                    --jp-widgets-label-color: white;\n",
       "                    --jp-ui-font-color1: white;\n",
       "                    --jp-layout-color2: #454545;\n",
       "                    background-color: #383838;\n",
       "                }\n",
       "\n",
       "                .geemap-dark .jupyter-button {\n",
       "                    --jp-layout-color3: #383838;\n",
       "                }\n",
       "\n",
       "                .geemap-colab {\n",
       "                    background-color: var(--colab-primary-surface-color, white);\n",
       "                }\n",
       "\n",
       "                .geemap-colab .jupyter-button {\n",
       "                    --jp-layout-color3: var(--colab-primary-surface-color, white);\n",
       "                }\n",
       "            </style>\n",
       "            "
      ],
      "text/plain": [
       "<IPython.core.display.HTML object>"
      ]
     },
     "metadata": {},
     "output_type": "display_data"
    }
   ],
   "source": [
    "import ee\n",
    "import geemap\n",
    "ee.Initialize(project='ee-dabrowaremote')"
   ]
  },
  {
   "cell_type": "markdown",
   "id": "cfa7c6b9",
   "metadata": {},
   "source": [
    "## Task 1: Area of Interest (AOI)\n",
    "- Define an AOI over the Reduta Street area in Kraków.\n",
    "- Use `ee.Geometry.Polygon` or `ee.Geometry.Rectangle`."
   ]
  },
  {
   "cell_type": "code",
   "execution_count": 49,
   "id": "2c3702e7",
   "metadata": {},
   "outputs": [
    {
     "data": {
      "text/html": [
       "\n",
       "            <style>\n",
       "                .geemap-dark {\n",
       "                    --jp-widgets-color: white;\n",
       "                    --jp-widgets-label-color: white;\n",
       "                    --jp-ui-font-color1: white;\n",
       "                    --jp-layout-color2: #454545;\n",
       "                    background-color: #383838;\n",
       "                }\n",
       "\n",
       "                .geemap-dark .jupyter-button {\n",
       "                    --jp-layout-color3: #383838;\n",
       "                }\n",
       "\n",
       "                .geemap-colab {\n",
       "                    background-color: var(--colab-primary-surface-color, white);\n",
       "                }\n",
       "\n",
       "                .geemap-colab .jupyter-button {\n",
       "                    --jp-layout-color3: var(--colab-primary-surface-color, white);\n",
       "                }\n",
       "            </style>\n",
       "            "
      ],
      "text/plain": [
       "<IPython.core.display.HTML object>"
      ]
     },
     "metadata": {},
     "output_type": "display_data"
    },
    {
     "data": {
      "application/vnd.jupyter.widget-view+json": {
       "model_id": "8b6b5d093b654a729b45b41a2bbfe53d",
       "version_major": 2,
       "version_minor": 0
      },
      "text/plain": [
       "Map(center=[50.095300097386605, 19.982549999987466], controls=(WidgetControl(options=['position', 'transparent…"
      ]
     },
     "execution_count": 49,
     "metadata": {},
     "output_type": "execute_result"
    }
   ],
   "source": [
    "aoi = ee.Geometry.Rectangle([19.9762,50.092,19.9889,50.0986]) \n",
    "\n",
    "# Visualize the AOI on a map\n",
    "Map = geemap.Map()\n",
    "Map.centerObject(aoi, zoom=15)\n",
    "Map.addLayer(aoi, {'color': 'red'}, 'AOI')\n",
    "Map"
   ]
  },
  {
   "cell_type": "markdown",
   "id": "7817c68e",
   "metadata": {},
   "source": [
    "## Task 2: Download and Analyze IMGW Meteorological Data\n",
    "- Visit: [IMGW Archive](https://danepubliczne.imgw.pl/data/dane_pomiarowo_obserwacyjne/)\n",
    "- Navigate to:\n",
    "  - `dane_meteorologiczne/dobowe/synop/2013/`\n",
    "  - `dane_meteorologiczne/dobowe/synop/2024/`\n",
    "- Download `s_d_tmax.csv` for both years.\n",
    "- Filter the rows for **station ID 12566 (e.g. Kraków-Balice)**.\n",
    "- Identify days in **July or August** with **TMAX > 27°C**."
   ]
  },
  {
   "cell_type": "code",
   "execution_count": 22,
   "id": "9ee00c8e",
   "metadata": {},
   "outputs": [
    {
     "data": {
      "text/html": [
       "\n",
       "            <style>\n",
       "                .geemap-dark {\n",
       "                    --jp-widgets-color: white;\n",
       "                    --jp-widgets-label-color: white;\n",
       "                    --jp-ui-font-color1: white;\n",
       "                    --jp-layout-color2: #454545;\n",
       "                    background-color: #383838;\n",
       "                }\n",
       "\n",
       "                .geemap-dark .jupyter-button {\n",
       "                    --jp-layout-color3: #383838;\n",
       "                }\n",
       "\n",
       "                .geemap-colab {\n",
       "                    background-color: var(--colab-primary-surface-color, white);\n",
       "                }\n",
       "\n",
       "                .geemap-colab .jupyter-button {\n",
       "                    --jp-layout-color3: var(--colab-primary-surface-color, white);\n",
       "                }\n",
       "            </style>\n",
       "            "
      ],
      "text/plain": [
       "<IPython.core.display.HTML object>"
      ]
     },
     "metadata": {},
     "output_type": "display_data"
    },
    {
     "name": "stdout",
     "output_type": "stream",
     "text": [
      "Data dnia z największą temperaturą: 2013-08-08, Temperatura: 38.3°C\n"
     ]
    }
   ],
   "source": [
    "import pandas as pd\n",
    "\n",
    "# Wczytaj dane z pliku CSV\n",
    "data = pd.read_csv('lab4/k_d_08_2013.csv', delimiter=',', header=None, encoding='cp1250')\n",
    "\n",
    "# Filtruj dane dla stacji KRAKÓW-OBSERWATORIUM \n",
    "station_data = data[data[1] == 'KRAKÓW-OBSERWATORIUM']\n",
    "\n",
    "# Znajdź datę dnia z największą temperaturą \n",
    "max_temp_row = station_data.loc[station_data[5].idxmax()]\n",
    "\n",
    "# Wyświetl datę i temperaturę\n",
    "if int(max_temp_row[4]) < 10:\n",
    "    day = f\"0{int(max_temp_row[4])}\"\n",
    "else:\n",
    "    day = str(int(max_temp_row[4]))\n",
    "\n",
    "if int(max_temp_row[3]) < 10:\n",
    "    month = f\"0{int(max_temp_row[3])}\"\n",
    "else:\n",
    "    month = str(int(max_temp_row[3]))\n",
    "\n",
    "year = str(int(max_temp_row[2]))\n",
    "max_temp_date_2013 = f\"{year}-{month}-{day}\"\n",
    "max_temp_value_2013 = max_temp_row[5]\n",
    "print(f\"Data dnia z największą temperaturą: {max_temp_date_2013}, Temperatura: {max_temp_value_2013}°C\")"
   ]
  },
  {
   "cell_type": "code",
   "execution_count": 23,
   "id": "de3731bb",
   "metadata": {},
   "outputs": [
    {
     "data": {
      "text/html": [
       "\n",
       "            <style>\n",
       "                .geemap-dark {\n",
       "                    --jp-widgets-color: white;\n",
       "                    --jp-widgets-label-color: white;\n",
       "                    --jp-ui-font-color1: white;\n",
       "                    --jp-layout-color2: #454545;\n",
       "                    background-color: #383838;\n",
       "                }\n",
       "\n",
       "                .geemap-dark .jupyter-button {\n",
       "                    --jp-layout-color3: #383838;\n",
       "                }\n",
       "\n",
       "                .geemap-colab {\n",
       "                    background-color: var(--colab-primary-surface-color, white);\n",
       "                }\n",
       "\n",
       "                .geemap-colab .jupyter-button {\n",
       "                    --jp-layout-color3: var(--colab-primary-surface-color, white);\n",
       "                }\n",
       "            </style>\n",
       "            "
      ],
      "text/plain": [
       "<IPython.core.display.HTML object>"
      ]
     },
     "metadata": {},
     "output_type": "display_data"
    },
    {
     "name": "stdout",
     "output_type": "stream",
     "text": [
      "Data dnia z największą temperaturą: 2024-08-25, Temperatura: 33.6°C\n"
     ]
    }
   ],
   "source": [
    "# Wczytaj dane z pliku CSV\n",
    "data = pd.read_csv('lab4/k_d_08_2024.csv', delimiter=',', header=None, encoding='cp1250')\n",
    "\n",
    "# Filtruj dane dla stacji KRAKÓW-OBSERWATORIUM \n",
    "station_data = data[data[1] == 'KRAKÓW-OBSERWATORIUM          ']\n",
    "\n",
    "# Znajdź datę dnia z największą temperaturą \n",
    "max_temp_row = station_data.loc[station_data[5].idxmax()]\n",
    "\n",
    "# Wyświetl datę i temperaturę\n",
    "if int(max_temp_row[4]) < 10:\n",
    "    day = f\"0{int(max_temp_row[4])}\"\n",
    "else:\n",
    "    day = str(int(max_temp_row[4]))\n",
    "\n",
    "if int(max_temp_row[3]) < 10:\n",
    "    month = f\"0{int(max_temp_row[3])}\"\n",
    "else:\n",
    "    month = str(int(max_temp_row[3]))\n",
    "\n",
    "year = str(int(max_temp_row[2]))\n",
    "max_temp_date_2024 = f\"{year}-{month}-{day}\"\n",
    "max_temp_value_2024 = max_temp_row[5]\n",
    "print(f\"Data dnia z największą temperaturą: {max_temp_date_2024}, Temperatura: {max_temp_value_2024}°C\")"
   ]
  },
  {
   "cell_type": "markdown",
   "id": "c7f064e5",
   "metadata": {},
   "source": [
    "## Task 3: Select Landsat 8 Images Matching These Dates\n",
    "- In Earth Engine, use `LANDSAT/LC08/C02/T1_L2` collection.\n",
    "- Apply filters:\n",
    "  - `.filterBounds(aoi)`\n",
    "  - `.filterDate()` for the matching day\n",
    "  - `.filterMetadata('CLOUD_COVER', 'less_than', 20)`\n",
    "- Try to find **one image from 2013** and **one image from 2024** that match your hot days list."
   ]
  },
  {
   "cell_type": "code",
   "execution_count": 59,
   "id": "4cbafffe",
   "metadata": {},
   "outputs": [
    {
     "data": {
      "text/html": [
       "\n",
       "            <style>\n",
       "                .geemap-dark {\n",
       "                    --jp-widgets-color: white;\n",
       "                    --jp-widgets-label-color: white;\n",
       "                    --jp-ui-font-color1: white;\n",
       "                    --jp-layout-color2: #454545;\n",
       "                    background-color: #383838;\n",
       "                }\n",
       "\n",
       "                .geemap-dark .jupyter-button {\n",
       "                    --jp-layout-color3: #383838;\n",
       "                }\n",
       "\n",
       "                .geemap-colab {\n",
       "                    background-color: var(--colab-primary-surface-color, white);\n",
       "                }\n",
       "\n",
       "                .geemap-colab .jupyter-button {\n",
       "                    --jp-layout-color3: var(--colab-primary-surface-color, white);\n",
       "                }\n",
       "            </style>\n",
       "            "
      ],
      "text/plain": [
       "<IPython.core.display.HTML object>"
      ]
     },
     "metadata": {},
     "output_type": "display_data"
    }
   ],
   "source": [
    "#center_date_2013 = ee.Date(max_temp_date_2013)\n",
    "#center_date_2024 = ee.Date(max_temp_date_2024)\n",
    "\n",
    "#start_date_2013 = center_date_2013.advance(-15, 'day')\n",
    "#end_date_2013 = center_date_2024.advance(15, 'day')\n",
    "\n",
    "#start_date_2024 = center_date_2024.advance(-15, 'day')\n",
    "#end_date_2024 = center_date_2024.advance(15, 'day')\n",
    "\n",
    "# Filtruj obrazy Landsat 8 dla 2013\n",
    "landsat_2013 = ee.ImageCollection('LANDSAT/LC08/C02/T1_L2') \\\n",
    "    .filterBounds(aoi) \\\n",
    "    .filterDate('2013-08-01', '2013-08-31') \\\n",
    "    .filterMetadata('CLOUD_COVER', 'less_than', 20) \\\n",
    "    .map(lambda img: img.clip(aoi))\n",
    "\n",
    "# Filtruj obrazy Landsat 8 dla 2024\n",
    "landsat_2024 = ee.ImageCollection('LANDSAT/LC08/C02/T1_L2') \\\n",
    "    .filterBounds(aoi) \\\n",
    "    .filterDate('2024-07-01', '2024-08-31') \\\n",
    "    .filterMetadata('CLOUD_COVER', 'less_than', 100) \\\n",
    "    .sort('CLOUD_COVER') \\\n",
    "    .map(lambda img: img.clip(aoi))\n",
    "\n",
    "# Pobierz pierwszy obraz z każdej kolekcji\n",
    "image_2013 = landsat_2013.first()\n",
    "image_2024 = landsat_2024.first()\n",
    "\n",
    "# Dodaj obrazy do mapy\n",
    "#Map.addLayer(image_2013, {'bands': ['ST_B10'], 'min': 13000, 'max': 16500, 'palette': ['blue', 'green', 'red']}, 'Landsat 8 2013')\n",
    "#Map.addLayer(image_2024, {'bands': ['ST_B10'], 'min': 13000, 'max': 16500, 'palette': ['blue', 'green', 'red']}, 'Landsat 8 2024')\n",
    "\n",
    "#Map"
   ]
  },
  {
   "cell_type": "markdown",
   "id": "721a6015",
   "metadata": {},
   "source": [
    "## Task 4: Process Thermal Band (ST_B10)\n",
    "- Convert Band 10 to Brightness Temperature (Kelvin):\n",
    "  `TB = ST_B10 * 0.00341802 + 149.0`\n",
    "- Create a visualization of each image using the same color scale."
   ]
  },
  {
   "cell_type": "code",
   "execution_count": 62,
   "id": "96631130",
   "metadata": {},
   "outputs": [
    {
     "data": {
      "text/html": [
       "\n",
       "            <style>\n",
       "                .geemap-dark {\n",
       "                    --jp-widgets-color: white;\n",
       "                    --jp-widgets-label-color: white;\n",
       "                    --jp-ui-font-color1: white;\n",
       "                    --jp-layout-color2: #454545;\n",
       "                    background-color: #383838;\n",
       "                }\n",
       "\n",
       "                .geemap-dark .jupyter-button {\n",
       "                    --jp-layout-color3: #383838;\n",
       "                }\n",
       "\n",
       "                .geemap-colab {\n",
       "                    background-color: var(--colab-primary-surface-color, white);\n",
       "                }\n",
       "\n",
       "                .geemap-colab .jupyter-button {\n",
       "                    --jp-layout-color3: var(--colab-primary-surface-color, white);\n",
       "                }\n",
       "            </style>\n",
       "            "
      ],
      "text/plain": [
       "<IPython.core.display.HTML object>"
      ]
     },
     "metadata": {},
     "output_type": "display_data"
    },
    {
     "data": {
      "application/vnd.jupyter.widget-view+json": {
       "model_id": "97c1b091980044acb3fb89c8e4ab57de",
       "version_major": 2,
       "version_minor": 0
      },
      "text/plain": [
       "Map(center=[50.095300097386605, 19.982549999987466], controls=(WidgetControl(options=['position', 'transparent…"
      ]
     },
     "execution_count": 62,
     "metadata": {},
     "output_type": "execute_result"
    }
   ],
   "source": [
    "# Przekształć pasmo ST_B10 na temperaturę jasności (Kelvin)\n",
    "def calculate_brightness_temperature(image):\n",
    "    return image.select('ST_B10').multiply(0.00341802).add(149.0).rename('Brightness_Temperature')\n",
    "\n",
    "# Oblicz temperaturę jasności dla obrazów z 2013 i 2024\n",
    "tb_2013 = calculate_brightness_temperature(image_2013)\n",
    "tb_2024 = calculate_brightness_temperature(image_2024)\n",
    "\n",
    "# Dodaj warstwy do mapy z tą samą skalą kolorów\n",
    "tb_vis_params = {\n",
    "    'min': 290,  # Minimalna wartość temperatury w Kelvinach\n",
    "    'max': 320,  # Maksymalna wartość temperatury w Kelvinach\n",
    "    'palette': ['blue', 'green', 'yellow', 'red']  # Skala kolorów\n",
    "}\n",
    "\n",
    "#Część tasku 5\n",
    "# Calculate the difference between TB_2024 and TB_2013\n",
    "tb_difference = tb_2024.subtract(tb_2013).rename('Temperature_Difference')\n",
    "diff_vis_params = {\n",
    "    'min': -10,  # Minimum difference value\n",
    "    'max': 10,   # Maximum difference value\n",
    "    'palette': ['blue', 'white', 'red']  # Color scale for negative, zero, and positive differences\n",
    "}\n",
    "\n",
    "Map2 = geemap.Map()\n",
    "Map2.centerObject(aoi, zoom=15)\n",
    "Map2.addLayer(tb_2013, tb_vis_params, '2013')\n",
    "Map2.addLayer(tb_2024, tb_vis_params, '2024')\n",
    "Map2.addLayer(tb_difference, diff_vis_params, 'Difference')\n",
    "# Wyświetl mapę\n",
    "Map2"
   ]
  },
  {
   "cell_type": "markdown",
   "id": "aa3b092a",
   "metadata": {},
   "source": [
    "## Task 5: Compare and Interpret\n",
    "- Compare the two maps.\n",
    "- Optionally calculate difference: `TB_2024 - TB_2013`\n",
    "- Discuss: did the surface temperature increase in the area?\n",
    "- Is there evidence of an Urban Heat Island effect related to development?"
   ]
  },
  {
   "cell_type": "markdown",
   "id": "a53fbe54",
   "metadata": {},
   "source": [
    "### Answer\n",
    "\n",
    "Because of the lack of data, the results are not reliable. From the data provided by IMGW, we obtained dates of the hottest day. Unfortunetely, the available Landsat images from August were far away from those dates. Moreover, Landsat-8 has a temporal resolution about 16 days, so low number of images is available. Those images are also mostly covered by clouds. As a result, the temperature in 2024 is lower than in 2013 even it should be much higher. Those results should be inverted because of the concrete ground and buildings in 2024 comparing to green areas in 2013. With those data also calculating difference does not change anything."
   ]
  }
 ],
 "metadata": {
  "kernelspec": {
   "display_name": "RemoteSensing",
   "language": "python",
   "name": "python3"
  },
  "language_info": {
   "codemirror_mode": {
    "name": "ipython",
    "version": 3
   },
   "file_extension": ".py",
   "mimetype": "text/x-python",
   "name": "python",
   "nbconvert_exporter": "python",
   "pygments_lexer": "ipython3",
   "version": "3.12.7"
  }
 },
 "nbformat": 4,
 "nbformat_minor": 5
}
